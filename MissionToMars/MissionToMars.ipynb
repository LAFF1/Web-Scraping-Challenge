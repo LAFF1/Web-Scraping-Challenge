{
 "cells": [
  {
   "cell_type": "markdown",
   "id": "c052ce51",
   "metadata": {},
   "source": [
    "# Mission to Mars"
   ]
  },
  {
   "cell_type": "code",
   "execution_count": 1,
   "id": "31f4f1b7",
   "metadata": {},
   "outputs": [],
   "source": [
    "# !pip install selenium"
   ]
  },
  {
   "cell_type": "code",
   "execution_count": 1,
   "id": "9ea2705a",
   "metadata": {},
   "outputs": [],
   "source": [
    "# Dependencies and Setup\n",
    "from bs4 import BeautifulSoup\n",
    "from splinter import Browser\n",
    "import pandas as pd\n",
    "\n",
    "import ssl\n",
    "ssl._create_default_https_context = ssl._create_unverified_context"
   ]
  },
  {
   "cell_type": "markdown",
   "id": "18929ae7",
   "metadata": {},
   "source": [
    "### Set up for Windows "
   ]
  },
  {
   "cell_type": "code",
   "execution_count": 2,
   "id": "bd747fc3",
   "metadata": {},
   "outputs": [],
   "source": [
    "# Set Executable Path & Initialize Chrome Browser\n",
    "executable_path = {\"executable_path\": \"./chromedriver.exe\"}\n",
    "browser = Browser(\"chrome\", **executable_path)"
   ]
  },
  {
   "cell_type": "markdown",
   "id": "6fd16e98",
   "metadata": {},
   "source": [
    "### Set up for Mac OS\n",
    "No Mac avaiable for testing"
   ]
  },
  {
   "cell_type": "code",
   "execution_count": 3,
   "id": "cacc61d2",
   "metadata": {},
   "outputs": [],
   "source": [
    "# # Set Executable Path & Initialize Chrome Browser\n",
    "# executable_path = {\"executable_path\": \"/usr/local/bin/chromedriver\"}\n",
    "# browser = Browser(\"chrome\", **executable_path, headless=False)"
   ]
  },
  {
   "cell_type": "markdown",
   "id": "26a5c085",
   "metadata": {},
   "source": [
    "## NASA Mars News\n",
    "#### https://redplanetscience.com/"
   ]
  },
  {
   "cell_type": "code",
   "execution_count": 4,
   "id": "7d9053be",
   "metadata": {},
   "outputs": [],
   "source": [
    "# Goto Red Planet Science\n",
    "url = \"https://redplanetscience.com\"\n",
    "browser.visit(url)"
   ]
  },
  {
   "cell_type": "code",
   "execution_count": 5,
   "id": "c81479d7",
   "metadata": {},
   "outputs": [],
   "source": [
    "# Parse Results HTML with BeautifulSoup\n",
    "html = browser.html\n",
    "news_soup = BeautifulSoup(html, \"html.parser\")\n",
    "# print(news_soup.prettify())"
   ]
  },
  {
   "cell_type": "code",
   "execution_count": 6,
   "id": "5d096eb9",
   "metadata": {},
   "outputs": [],
   "source": [
    "## create a list to hold all the stuff we find\n",
    "goodies = {}"
   ]
  },
  {
   "cell_type": "code",
   "execution_count": 7,
   "id": "816a8cf7",
   "metadata": {},
   "outputs": [
    {
     "name": "stdout",
     "output_type": "stream",
     "text": [
      "Three New Views of Mars' Moon Phobos\n"
     ]
    }
   ],
   "source": [
    "# Get Headlines \n",
    "headline = news_soup.find(\"div\", class_=\"content_title\").get_text()\n",
    "goodies[\"Headline\"] = headline\n",
    "print(headline)"
   ]
  },
  {
   "cell_type": "code",
   "execution_count": 8,
   "id": "bb3d71d4",
   "metadata": {},
   "outputs": [
    {
     "name": "stdout",
     "output_type": "stream",
     "text": [
      "https://mars.nasa.gov/system/news_items/list_view_images/8687_PIA23893-Odyssey-Phobos-320.jpg\n"
     ]
    }
   ],
   "source": [
    "mi = news_soup.select(\"div.list_image\")\n",
    "mi_url = mi[0].find(\"img\").get('src')\n",
    "goodies[\"Nasa_img\"] = mi_url\n",
    "print(mi_url)"
   ]
  },
  {
   "cell_type": "code",
   "execution_count": 9,
   "id": "a0d87acd",
   "metadata": {},
   "outputs": [
    {
     "name": "stdout",
     "output_type": "stream",
     "text": [
      "Taken with the infrared camera aboard NASA's Odyssey orbiter, they reveal temperature variations on the small moon as it drifts into and out of Mars’ shadow.\n"
     ]
    }
   ],
   "source": [
    "news_paragraph = news_soup.find(\"div\", class_=\"article_teaser_body\").get_text()\n",
    "goodies[\"News_paragraph\"] = news_paragraph\n",
    "print(news_paragraph)"
   ]
  },
  {
   "cell_type": "markdown",
   "id": "b3b19023",
   "metadata": {},
   "source": [
    "# JPL Mars Space Images—Featured Image"
   ]
  },
  {
   "cell_type": "code",
   "execution_count": 10,
   "id": "46ff32c5",
   "metadata": {},
   "outputs": [],
   "source": [
    "# Visit the NASA JPL (Jet Propulsion Laboratory) Site\n",
    "executable_path = {\"executable_path\": \"./chromedriver.exe\"}\n",
    "browser = Browser(\"chrome\", **executable_path)\n",
    "url = \"https://spaceimages-mars.com\"\n",
    "browser.visit(url)"
   ]
  },
  {
   "cell_type": "code",
   "execution_count": 11,
   "id": "ea81e44f",
   "metadata": {},
   "outputs": [],
   "source": [
    "#  Find the full image button and click it using splinter\n",
    "BS = browser.find_by_tag(\"button\")\n",
    "FIB = BS[1]\n",
    "FIB.click()"
   ]
  },
  {
   "cell_type": "code",
   "execution_count": 12,
   "id": "ad43d3db",
   "metadata": {},
   "outputs": [],
   "source": [
    "# Parse Results HTML with BeautifulSoup\n",
    "html = browser.html\n",
    "image_soup = BeautifulSoup(html, \"html.parser\")\n",
    "\n",
    "# print(image_soup.prettify())"
   ]
  },
  {
   "cell_type": "code",
   "execution_count": 13,
   "id": "96e36bc3",
   "metadata": {},
   "outputs": [],
   "source": [
    "img_url = image_soup.select_one(\"img.fancybox-image\").get(\"src\")"
   ]
  },
  {
   "cell_type": "code",
   "execution_count": 14,
   "id": "7beb8be2",
   "metadata": {},
   "outputs": [
    {
     "name": "stdout",
     "output_type": "stream",
     "text": [
      "https://spaceimages-mars.com/image/featured/mars2.jpg\n"
     ]
    }
   ],
   "source": [
    "# Create full url and save\n",
    "img_url = f\"https://spaceimages-mars.com/{img_url}\"\n",
    "goodies[\"SpaceMarsImg\"] = img_url\n",
    "print(img_url)"
   ]
  },
  {
   "cell_type": "markdown",
   "id": "dbc0be10",
   "metadata": {},
   "source": [
    "# Mars Facts \n",
    "https://galaxyfacts-mars.com/"
   ]
  },
  {
   "cell_type": "code",
   "execution_count": 15,
   "id": "56ca30e0",
   "metadata": {},
   "outputs": [
    {
     "name": "stdout",
     "output_type": "stream",
     "text": [
      "                         0                1                2\n",
      "0  Mars - Earth Comparison             Mars            Earth\n",
      "1                Diameter:         6,779 km        12,742 km\n",
      "2                    Mass:  6.39 × 10^23 kg  5.97 × 10^24 kg\n",
      "3                   Moons:                2                1\n",
      "4       Distance from Sun:   227,943,824 km   149,598,262 km\n",
      "5          Length of Year:   687 Earth days      365.24 days\n",
      "6             Temperature:     -87 to -5 °C      -88 to 58°C\n"
     ]
    },
    {
     "data": {
      "text/html": [
       "<div>\n",
       "<style scoped>\n",
       "    .dataframe tbody tr th:only-of-type {\n",
       "        vertical-align: middle;\n",
       "    }\n",
       "\n",
       "    .dataframe tbody tr th {\n",
       "        vertical-align: top;\n",
       "    }\n",
       "\n",
       "    .dataframe thead th {\n",
       "        text-align: right;\n",
       "    }\n",
       "</style>\n",
       "<table border=\"1\" class=\"dataframe\">\n",
       "  <thead>\n",
       "    <tr style=\"text-align: right;\">\n",
       "      <th></th>\n",
       "      <th>Mars</th>\n",
       "      <th>Earth</th>\n",
       "    </tr>\n",
       "    <tr>\n",
       "      <th>Description</th>\n",
       "      <th></th>\n",
       "      <th></th>\n",
       "    </tr>\n",
       "  </thead>\n",
       "  <tbody>\n",
       "    <tr>\n",
       "      <th>Mars - Earth Comparison</th>\n",
       "      <td>Mars</td>\n",
       "      <td>Earth</td>\n",
       "    </tr>\n",
       "    <tr>\n",
       "      <th>Diameter:</th>\n",
       "      <td>6,779 km</td>\n",
       "      <td>12,742 km</td>\n",
       "    </tr>\n",
       "    <tr>\n",
       "      <th>Mass:</th>\n",
       "      <td>6.39 × 10^23 kg</td>\n",
       "      <td>5.97 × 10^24 kg</td>\n",
       "    </tr>\n",
       "    <tr>\n",
       "      <th>Moons:</th>\n",
       "      <td>2</td>\n",
       "      <td>1</td>\n",
       "    </tr>\n",
       "    <tr>\n",
       "      <th>Distance from Sun:</th>\n",
       "      <td>227,943,824 km</td>\n",
       "      <td>149,598,262 km</td>\n",
       "    </tr>\n",
       "    <tr>\n",
       "      <th>Length of Year:</th>\n",
       "      <td>687 Earth days</td>\n",
       "      <td>365.24 days</td>\n",
       "    </tr>\n",
       "    <tr>\n",
       "      <th>Temperature:</th>\n",
       "      <td>-87 to -5 °C</td>\n",
       "      <td>-88 to 58°C</td>\n",
       "    </tr>\n",
       "  </tbody>\n",
       "</table>\n",
       "</div>"
      ],
      "text/plain": [
       "                                    Mars            Earth\n",
       "Description                                              \n",
       "Mars - Earth Comparison             Mars            Earth\n",
       "Diameter:                       6,779 km        12,742 km\n",
       "Mass:                    6.39 × 10^23 kg  5.97 × 10^24 kg\n",
       "Moons:                                 2                1\n",
       "Distance from Sun:        227,943,824 km   149,598,262 km\n",
       "Length of Year:           687 Earth days      365.24 days\n",
       "Temperature:                -87 to -5 °C      -88 to 58°C"
      ]
     },
     "execution_count": 15,
     "metadata": {},
     "output_type": "execute_result"
    }
   ],
   "source": [
    "# Visit the Mars Facts Site Using Pandas to Read\n",
    "mars_df = pd.read_html(\"https://galaxyfacts-mars.com/\")[0]\n",
    "print(mars_df)\n",
    "mars_df.columns=[\"Description\", \"Mars\", \"Earth\"]\n",
    "mars_df.set_index(\"Description\", inplace=True)\n",
    "mars_df"
   ]
  },
  {
   "cell_type": "code",
   "execution_count": 16,
   "id": "c65246dd",
   "metadata": {},
   "outputs": [],
   "source": [
    "# mars_df = mars_df.drop('Earth', axis=1)\n",
    "mars_df.to_html(\"../Resources/MarsData.html\", index=True, header=True)"
   ]
  },
  {
   "cell_type": "markdown",
   "id": "e80b80a1",
   "metadata": {},
   "source": [
    "# Mars Hemisphere Pictures"
   ]
  },
  {
   "cell_type": "code",
   "execution_count": 23,
   "id": "feb58fca",
   "metadata": {},
   "outputs": [],
   "source": [
    "# Visit the USGS Astrogeology Science Center Site\n",
    "executable_path = {\"executable_path\": \"./chromedriver.exe\"}\n",
    "browser = Browser(\"chrome\", **executable_path, headless=False)\n",
    "url = \"https://astrogeology.usgs.gov/search/results?q=hemisphere+enhanced&k1=target&v1=Mars\"\n",
    "browser.visit(url)"
   ]
  },
  {
   "cell_type": "code",
   "execution_count": 24,
   "id": "02e36f2e",
   "metadata": {},
   "outputs": [],
   "source": [
    "# Get a List of All the Hemispheres\n",
    "links = browser.find_by_css(\"a.product-item h3\")\n",
    "\n",
    "for i in range(len(links)):\n",
    "\n",
    "    # Find an entry with header\n",
    "    browser.find_by_css(\"a.product-item h3\")[i].click()\n",
    "    \n",
    "    # Find Image Anchor Tag and get url from href\n",
    "    element = browser.find_link_by_text(\"Sample\").first\n",
    "    \n",
    "    # Find url and title and add to dict\n",
    "    goodies[f'SpaceMarsImg {i}'] = element[\"href\"]\n",
    "    goodies[f'SpaceMarsImgTitle {i}'] = browser.find_by_css(\"h2.title\").text\n",
    "  \n",
    "    # Return to prior page \n",
    "    browser.back()"
   ]
  },
  {
   "cell_type": "code",
   "execution_count": 20,
   "id": "0c8b83bc",
   "metadata": {},
   "outputs": [
    {
     "name": "stdout",
     "output_type": "stream",
     "text": [
      "{'Headline': \"NASA's Mars 2020 Rover Tests Descent-Stage Separation\", 'Nasa_img': 'https://mars.nasa.gov/system/news_items/list_view_images/8520_PIA23466-226.jpg', 'News_paragraph': \"A crane lifts the rocket-powered descent stage away from NASA's Mars 2020 rover after technicians tested the pyrotechnic charges that separate the two spacecraft.\", 'SpaceMarsImg': 'https://spaceimages-mars.com/image/featured/mars1.jpg', 'SpaceMarsImg 0': 'https://astropedia.astrogeology.usgs.gov/download/Mars/Viking/cerberus_enhanced.tif/full.jpg', 'SpaceMarsImgTitle 0': 'Cerberus Hemisphere Enhanced', 'SpaceMarsImg 1': 'https://astropedia.astrogeology.usgs.gov/download/Mars/Viking/schiaparelli_enhanced.tif/full.jpg', 'SpaceMarsImgTitle 1': 'Schiaparelli Hemisphere Enhanced', 'SpaceMarsImg 2': 'https://astropedia.astrogeology.usgs.gov/download/Mars/Viking/syrtis_major_enhanced.tif/full.jpg', 'SpaceMarsImgTitle 2': 'Syrtis Major Hemisphere Enhanced', 'SpaceMarsImg 3': 'https://astropedia.astrogeology.usgs.gov/download/Mars/Viking/valles_marineris_enhanced.tif/full.jpg', 'SpaceMarsImgTitle 3': 'Valles Marineris Hemisphere Enhanced'}\n"
     ]
    }
   ],
   "source": [
    "print(goodies)"
   ]
  },
  {
   "cell_type": "code",
   "execution_count": null,
   "id": "a1c7fe6c",
   "metadata": {},
   "outputs": [],
   "source": []
  }
 ],
 "metadata": {
  "kernelspec": {
   "display_name": "Python 3 (ipykernel)",
   "language": "python",
   "name": "python3"
  },
  "language_info": {
   "codemirror_mode": {
    "name": "ipython",
    "version": 3
   },
   "file_extension": ".py",
   "mimetype": "text/x-python",
   "name": "python",
   "nbconvert_exporter": "python",
   "pygments_lexer": "ipython3",
   "version": "3.9.7"
  }
 },
 "nbformat": 4,
 "nbformat_minor": 5
}
